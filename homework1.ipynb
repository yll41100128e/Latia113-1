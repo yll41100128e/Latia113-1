{
  "nbformat": 4,
  "nbformat_minor": 0,
  "metadata": {
    "colab": {
      "provenance": []
    },
    "kernelspec": {
      "name": "python3",
      "display_name": "Python 3"
    },
    "language_info": {
      "name": "python"
    }
  },
  "cells": [
    {
      "cell_type": "code",
      "execution_count": 4,
      "metadata": {
        "colab": {
          "base_uri": "https://localhost:8080/"
        },
        "id": "xW83GgZEuj9l",
        "outputId": "35b39cf4-a8bc-4797-aa95-d8487ff57c1b"
      },
      "outputs": [
        {
          "output_type": "stream",
          "name": "stdout",
          "text": [
            "3\n"
          ]
        }
      ],
      "source": [
        "a=2\n",
        "b=3\n",
        "if a>b:\n",
        "  print(a)\n",
        "elif a<b:\n",
        "  print(b)\n",
        "else:\n",
        "  print(equal)\n",
        "\n"
      ]
    }
  ]
}