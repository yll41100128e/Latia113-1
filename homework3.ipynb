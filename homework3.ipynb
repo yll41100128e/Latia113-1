{
  "nbformat": 4,
  "nbformat_minor": 0,
  "metadata": {
    "colab": {
      "provenance": []
    },
    "kernelspec": {
      "name": "python3",
      "display_name": "Python 3"
    },
    "language_info": {
      "name": "python"
    }
  },
  "cells": [
    {
      "cell_type": "code",
      "execution_count": null,
      "metadata": {
        "id": "XH-fJkAC3qwb"
      },
      "outputs": [],
      "source": []
    },
    {
      "cell_type": "code",
      "source": [],
      "metadata": {
        "id": "TWfYabrM6aXC"
      },
      "execution_count": null,
      "outputs": []
    },
    {
      "cell_type": "code",
      "source": [
        "import pandas as pd\n",
        "import statsmodels.api as sm\n",
        "import numpy as np\n",
        "df2 = pd.DataFrame(np.random.randn(100, 4), columns=list(\"ABCD\"))\n",
        "X = df2['A']\n",
        "y = df2['B']\n",
        "# Add a constant to the model (for the intercept term)\n",
        "X = sm.add_constant(X)\n",
        "X\n",
        "# Fit the regression model\n",
        "model = sm.OLS(y, X).fit()\n",
        "# Display the regression results\n",
        "print(model.summary())\n"
      ],
      "metadata": {
        "colab": {
          "base_uri": "https://localhost:8080/"
        },
        "id": "m-8QdPM_68gq",
        "outputId": "5dfa68cf-1f18-4601-b14c-06d5d08374ab"
      },
      "execution_count": null,
      "outputs": [
        {
          "output_type": "stream",
          "name": "stdout",
          "text": [
            "                            OLS Regression Results                            \n",
            "==============================================================================\n",
            "Dep. Variable:                      B   R-squared:                       0.105\n",
            "Model:                            OLS   Adj. R-squared:                  0.095\n",
            "Method:                 Least Squares   F-statistic:                     11.44\n",
            "Date:                Thu, 07 Nov 2024   Prob (F-statistic):            0.00103\n",
            "Time:                        10:01:55   Log-Likelihood:                -149.46\n",
            "No. Observations:                 100   AIC:                             302.9\n",
            "Df Residuals:                      98   BIC:                             308.1\n",
            "Df Model:                           1                                         \n",
            "Covariance Type:            nonrobust                                         \n",
            "==============================================================================\n",
            "                 coef    std err          t      P>|t|      [0.025      0.975]\n",
            "------------------------------------------------------------------------------\n",
            "const          0.1511      0.109      1.382      0.170      -0.066       0.368\n",
            "A             -0.4093      0.121     -3.382      0.001      -0.649      -0.169\n",
            "==============================================================================\n",
            "Omnibus:                        2.026   Durbin-Watson:                   2.432\n",
            "Prob(Omnibus):                  0.363   Jarque-Bera (JB):                1.532\n",
            "Skew:                           0.287   Prob(JB):                        0.465\n",
            "Kurtosis:                       3.196   Cond. No.                         1.14\n",
            "==============================================================================\n",
            "\n",
            "Notes:\n",
            "[1] Standard Errors assume that the covariance matrix of the errors is correctly specified.\n"
          ]
        }
      ]
    },
    {
      "cell_type": "code",
      "source": [
        "import pandas as pd\n",
        "import statsmodels.api as sm\n",
        "import numpy as np\n",
        "df2 = pd.DataFrame(np.random.randn(100, 4), columns=list(\"ABCD\"))\n",
        "X = df2[['A', 'C']]\n",
        "y = df2['B']\n",
        "# Add a constant to the model (for the intercept term)\n",
        "X = sm.add_constant(X)\n",
        "X\n",
        "# Fit the regression model\n",
        "model = sm.OLS(y, X).fit()\n",
        "# Display the regression results\n",
        "print(model.summary())"
      ],
      "metadata": {
        "colab": {
          "base_uri": "https://localhost:8080/"
        },
        "id": "hZK4Rwue9goG",
        "outputId": "2d03e32e-d361-43b8-af17-f53e5146cc22"
      },
      "execution_count": null,
      "outputs": [
        {
          "output_type": "stream",
          "name": "stdout",
          "text": [
            "                            OLS Regression Results                            \n",
            "==============================================================================\n",
            "Dep. Variable:                      B   R-squared:                       0.007\n",
            "Model:                            OLS   Adj. R-squared:                 -0.013\n",
            "Method:                 Least Squares   F-statistic:                    0.3535\n",
            "Date:                Thu, 07 Nov 2024   Prob (F-statistic):              0.703\n",
            "Time:                        09:57:39   Log-Likelihood:                -144.65\n",
            "No. Observations:                 100   AIC:                             295.3\n",
            "Df Residuals:                      97   BIC:                             303.1\n",
            "Df Model:                           2                                         \n",
            "Covariance Type:            nonrobust                                         \n",
            "==============================================================================\n",
            "                 coef    std err          t      P>|t|      [0.025      0.975]\n",
            "------------------------------------------------------------------------------\n",
            "const          0.1907      0.107      1.785      0.077      -0.021       0.403\n",
            "A              0.0017      0.109      0.016      0.987      -0.215       0.219\n",
            "C              0.0917      0.110      0.831      0.408      -0.127       0.311\n",
            "==============================================================================\n",
            "Omnibus:                        0.174   Durbin-Watson:                   2.010\n",
            "Prob(Omnibus):                  0.917   Jarque-Bera (JB):                0.355\n",
            "Skew:                          -0.033   Prob(JB):                        0.837\n",
            "Kurtosis:                       2.716   Cond. No.                         1.29\n",
            "==============================================================================\n",
            "\n",
            "Notes:\n",
            "[1] Standard Errors assume that the covariance matrix of the errors is correctly specified.\n"
          ]
        }
      ]
    },
    {
      "cell_type": "code",
      "source": [
        "import pandas as pd\n",
        "import statsmodels.api as sm\n",
        "import numpy as np\n",
        "df2 = pd.DataFrame(np.random.randn(100, 4), columns=list(\"ABCD\"))\n",
        "X = df2[['A','C','D']]\n",
        "y = df2['B']\n",
        "# Add a constant to the model (for the intercept term)\n",
        "X = sm.add_constant(X)\n",
        "X\n",
        "# Fit the regression model\n",
        "model = sm.OLS(y, X).fit()\n",
        "# Display the regression results\n",
        "print(model.summary())"
      ],
      "metadata": {
        "colab": {
          "base_uri": "https://localhost:8080/"
        },
        "id": "eo3OLSCkD9Kj",
        "outputId": "f19a22c6-81e1-4529-fd7b-0ed8d25672d7"
      },
      "execution_count": null,
      "outputs": [
        {
          "output_type": "stream",
          "name": "stdout",
          "text": [
            "                            OLS Regression Results                            \n",
            "==============================================================================\n",
            "Dep. Variable:                      B   R-squared:                       0.020\n",
            "Model:                            OLS   Adj. R-squared:                 -0.010\n",
            "Method:                 Least Squares   F-statistic:                    0.6594\n",
            "Date:                Thu, 07 Nov 2024   Prob (F-statistic):              0.579\n",
            "Time:                        10:01:22   Log-Likelihood:                -133.87\n",
            "No. Observations:                 100   AIC:                             275.7\n",
            "Df Residuals:                      96   BIC:                             286.2\n",
            "Df Model:                           3                                         \n",
            "Covariance Type:            nonrobust                                         \n",
            "==============================================================================\n",
            "                 coef    std err          t      P>|t|      [0.025      0.975]\n",
            "------------------------------------------------------------------------------\n",
            "const          0.1638      0.095      1.719      0.089      -0.025       0.353\n",
            "A              0.0640      0.103      0.623      0.535      -0.140       0.268\n",
            "C              0.0373      0.082      0.453      0.651      -0.126       0.201\n",
            "D             -0.1005      0.093     -1.079      0.283      -0.285       0.084\n",
            "==============================================================================\n",
            "Omnibus:                        2.224   Durbin-Watson:                   1.966\n",
            "Prob(Omnibus):                  0.329   Jarque-Bera (JB):                1.542\n",
            "Skew:                          -0.041   Prob(JB):                        0.462\n",
            "Kurtosis:                       2.397   Cond. No.                         1.48\n",
            "==============================================================================\n",
            "\n",
            "Notes:\n",
            "[1] Standard Errors assume that the covariance matrix of the errors is correctly specified.\n"
          ]
        }
      ]
    },
    {
      "cell_type": "markdown",
      "source": [],
      "metadata": {
        "id": "BcOT6Pg1DIfU"
      }
    }
  ]
}